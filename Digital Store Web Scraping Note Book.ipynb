{
 "cells": [
  {
   "cell_type": "markdown",
   "id": "f2feae85-5977-4190-bb19-0d2aba81121d",
   "metadata": {},
   "source": [
    "##### Accessing the Digital Store web page"
   ]
  },
  {
   "cell_type": "code",
   "execution_count": 1,
   "id": "162be811-0918-429e-ba1b-bfdfa881a78e",
   "metadata": {},
   "outputs": [],
   "source": [
    "import numpy as np\n",
    "import pandas as pd\n",
    "import requests"
   ]
  },
  {
   "cell_type": "code",
   "execution_count": 2,
   "id": "d425bcf7-1f27-46fd-a19b-a601f01aa7d8",
   "metadata": {},
   "outputs": [],
   "source": [
    "from bs4 import BeautifulSoup"
   ]
  },
  {
   "cell_type": "code",
   "execution_count": 3,
   "id": "af2dab6f-45fc-45b6-9d0f-8f2505b34bce",
   "metadata": {},
   "outputs": [],
   "source": [
    "digital_store_url = 'https://www.digitalstore.co.ke/'"
   ]
  },
  {
   "cell_type": "code",
   "execution_count": 4,
   "id": "f61e91e9-93ef-4f52-8cb7-073abd9c883f",
   "metadata": {},
   "outputs": [],
   "source": [
    "site_response = requests.get(digital_store_url)"
   ]
  },
  {
   "cell_type": "code",
   "execution_count": 5,
   "id": "4b03affc-da01-47d0-b7dd-b4e7ddd8f78b",
   "metadata": {},
   "outputs": [
    {
     "data": {
      "text/plain": [
       "200"
      ]
     },
     "execution_count": 5,
     "metadata": {},
     "output_type": "execute_result"
    }
   ],
   "source": [
    "site_response.status_code"
   ]
  },
  {
   "cell_type": "code",
   "execution_count": 6,
   "id": "8a0affc3-212a-4f81-a3e4-79b0a7fc7561",
   "metadata": {},
   "outputs": [],
   "source": [
    "site_contents = site_response.text"
   ]
  },
  {
   "cell_type": "code",
   "execution_count": 7,
   "id": "8ce3dafe-c901-434d-9cbd-3a9ef89e7479",
   "metadata": {},
   "outputs": [],
   "source": [
    "site_doc = BeautifulSoup(site_contents, 'html.parser')"
   ]
  },
  {
   "cell_type": "markdown",
   "id": "a4e039f9-f49e-49e1-9b5b-5464618f3627",
   "metadata": {},
   "source": [
    "##### Lets fetch the category names"
   ]
  },
  {
   "cell_type": "code",
   "execution_count": 8,
   "id": "f181e879-ceaa-4ce6-8392-d3204110c8fe",
   "metadata": {},
   "outputs": [],
   "source": [
    "span_tags = site_doc.find_all('span', class_ = \"collection-item__title text--strong\")"
   ]
  },
  {
   "cell_type": "code",
   "execution_count": 9,
   "id": "a43b438c-89ea-4f7b-ac21-2c05d69b857c",
   "metadata": {},
   "outputs": [],
   "source": [
    "category_tags = span_tags"
   ]
  },
  {
   "cell_type": "code",
   "execution_count": 10,
   "id": "ecf11982-0a72-4ba6-9450-c0f6f42120e8",
   "metadata": {},
   "outputs": [
    {
     "data": {
      "text/plain": [
       "'Photography \\n\\n'"
      ]
     },
     "execution_count": 10,
     "metadata": {},
     "output_type": "execute_result"
    }
   ],
   "source": [
    "category_tags[3].text"
   ]
  },
  {
   "cell_type": "markdown",
   "id": "a5c71c16-15a3-4a9f-9360-4319701caa92",
   "metadata": {},
   "source": [
    "##### Lets fetch the category links"
   ]
  },
  {
   "cell_type": "code",
   "execution_count": 11,
   "id": "b4ab750e-4d0a-4459-ab2c-31ed71e9b1a6",
   "metadata": {},
   "outputs": [],
   "source": [
    "collection_index = 0, 1, 2, 3, 4, 5, 6, 7, 8, 9, 10 # These are the indices used in the class 'a' that contains the tags.\n",
    "link_tags = site_doc.find_all('a', {'data-collection-index': collection_index})"
   ]
  },
  {
   "cell_type": "code",
   "execution_count": 12,
   "id": "96f5da85-d43d-411c-bbc8-9b1bde838798",
   "metadata": {},
   "outputs": [
    {
     "data": {
      "text/plain": [
       "'/collections/phones-tablets'"
      ]
     },
     "execution_count": 12,
     "metadata": {},
     "output_type": "execute_result"
    }
   ],
   "source": [
    "link_tags[0]['href']"
   ]
  },
  {
   "cell_type": "markdown",
   "id": "0ee98c43-e84e-4a1e-96b4-81cf3ec38a54",
   "metadata": {},
   "source": [
    "##### List of category titles"
   ]
  },
  {
   "cell_type": "code",
   "execution_count": 13,
   "id": "6742950c-0172-46bf-ab4e-03d89e660062",
   "metadata": {},
   "outputs": [
    {
     "name": "stdout",
     "output_type": "stream",
     "text": [
      "['Smartphones', 'Computers', 'Computer Accessories & Components', 'Photography', 'Printers & Inks', 'Home Entertainment', 'Networking & Telecommunications', 'Electricals & Appliances', 'Conferencing Equipment', 'Software', \"Collection's name\"]\n"
     ]
    }
   ],
   "source": [
    "category_titles = []\n",
    "\n",
    "for tag in category_tags:\n",
    "    category_titles.append(tag.text.strip())\n",
    "print(category_titles)"
   ]
  },
  {
   "cell_type": "markdown",
   "id": "5b608658-47e0-41d5-87d3-a6dec4566665",
   "metadata": {},
   "source": [
    "##### List of category links"
   ]
  },
  {
   "cell_type": "code",
   "execution_count": 14,
   "id": "7e0f8519-6ee8-4a2d-8609-b414da3102a0",
   "metadata": {},
   "outputs": [
    {
     "name": "stdout",
     "output_type": "stream",
     "text": [
      "['https://www.digitalstore.co.ke/collections/phones-tablets', 'https://www.digitalstore.co.ke/collections/desktops-monitors', 'https://www.digitalstore.co.ke/collections/computer-accessories-components', 'https://www.digitalstore.co.ke/collections/cameras', 'https://www.digitalstore.co.ke/collections/https-digital-store-kenya-myshopify-com-admin-products-query-printer', 'https://www.digitalstore.co.ke/collections/tvs', 'https://www.digitalstore.co.ke/collections/networking', 'https://www.digitalstore.co.ke/collections/electricals', 'https://www.digitalstore.co.ke/collections/conferencing-equipments', 'https://www.digitalstore.co.ke/collections/software', 'https://www.digitalstore.co.ke#']\n"
     ]
    }
   ],
   "source": [
    "category_links = []\n",
    "base_link = 'https://www.digitalstore.co.ke'\n",
    "for tag in link_tags:\n",
    "    category_links.append(base_link + tag['href'])\n",
    "print(category_links)"
   ]
  },
  {
   "cell_type": "markdown",
   "id": "972ccdb9-2fb9-4914-a34f-7dad36f72104",
   "metadata": {},
   "source": [
    "##### Lets create a dataframe"
   ]
  },
  {
   "cell_type": "code",
   "execution_count": 15,
   "id": "26a4e985-2769-4574-b136-5fc377ce3fed",
   "metadata": {},
   "outputs": [],
   "source": [
    "categories_dict = {\n",
    "    'name': category_titles,\n",
    "    'link': category_links\n",
    "}"
   ]
  },
  {
   "cell_type": "code",
   "execution_count": 16,
   "id": "5cebc41e-6b7a-4a42-b0fa-09fa48ac0427",
   "metadata": {},
   "outputs": [
    {
     "data": {
      "text/html": [
       "<div>\n",
       "<style scoped>\n",
       "    .dataframe tbody tr th:only-of-type {\n",
       "        vertical-align: middle;\n",
       "    }\n",
       "\n",
       "    .dataframe tbody tr th {\n",
       "        vertical-align: top;\n",
       "    }\n",
       "\n",
       "    .dataframe thead th {\n",
       "        text-align: right;\n",
       "    }\n",
       "</style>\n",
       "<table border=\"1\" class=\"dataframe\">\n",
       "  <thead>\n",
       "    <tr style=\"text-align: right;\">\n",
       "      <th></th>\n",
       "      <th>name</th>\n",
       "      <th>link</th>\n",
       "    </tr>\n",
       "  </thead>\n",
       "  <tbody>\n",
       "    <tr>\n",
       "      <th>0</th>\n",
       "      <td>Smartphones</td>\n",
       "      <td>https://www.digitalstore.co.ke/collections/pho...</td>\n",
       "    </tr>\n",
       "    <tr>\n",
       "      <th>1</th>\n",
       "      <td>Computers</td>\n",
       "      <td>https://www.digitalstore.co.ke/collections/des...</td>\n",
       "    </tr>\n",
       "  </tbody>\n",
       "</table>\n",
       "</div>"
      ],
      "text/plain": [
       "          name                                               link\n",
       "0  Smartphones  https://www.digitalstore.co.ke/collections/pho...\n",
       "1    Computers  https://www.digitalstore.co.ke/collections/des..."
      ]
     },
     "execution_count": 16,
     "metadata": {},
     "output_type": "execute_result"
    }
   ],
   "source": [
    "categories_df = pd.DataFrame(categories_dict)\n",
    "categories_df[:2] # Returns the first 2 rows of the categories_df"
   ]
  },
  {
   "cell_type": "markdown",
   "id": "3481437f-5a60-44d8-842f-21815e6a41aa",
   "metadata": {},
   "source": [
    "##### Create a csv from the dataframe"
   ]
  },
  {
   "cell_type": "code",
   "execution_count": 17,
   "id": "67d6a1b5-eca4-4632-8fde-4e704a5e8244",
   "metadata": {},
   "outputs": [],
   "source": [
    "categories_df.to_csv('categories_table', index= None)  # Passing index= None removes the indexing that is created with the table."
   ]
  },
  {
   "cell_type": "markdown",
   "id": "11b5af74-ec39-412d-9b18-d27286ebe4d9",
   "metadata": {},
   "source": [
    "##### Accessing the categories table"
   ]
  },
  {
   "cell_type": "code",
   "execution_count": 18,
   "id": "e8d60d6e-e606-49a3-a6f4-160fc8cb4d74",
   "metadata": {},
   "outputs": [
    {
     "data": {
      "text/html": [
       "<div>\n",
       "<style scoped>\n",
       "    .dataframe tbody tr th:only-of-type {\n",
       "        vertical-align: middle;\n",
       "    }\n",
       "\n",
       "    .dataframe tbody tr th {\n",
       "        vertical-align: top;\n",
       "    }\n",
       "\n",
       "    .dataframe thead th {\n",
       "        text-align: right;\n",
       "    }\n",
       "</style>\n",
       "<table border=\"1\" class=\"dataframe\">\n",
       "  <thead>\n",
       "    <tr style=\"text-align: right;\">\n",
       "      <th></th>\n",
       "      <th>name</th>\n",
       "      <th>link</th>\n",
       "    </tr>\n",
       "  </thead>\n",
       "  <tbody>\n",
       "    <tr>\n",
       "      <th>0</th>\n",
       "      <td>Smartphones</td>\n",
       "      <td>https://www.digitalstore.co.ke/collections/pho...</td>\n",
       "    </tr>\n",
       "    <tr>\n",
       "      <th>1</th>\n",
       "      <td>Computers</td>\n",
       "      <td>https://www.digitalstore.co.ke/collections/des...</td>\n",
       "    </tr>\n",
       "    <tr>\n",
       "      <th>2</th>\n",
       "      <td>Computer Accessories &amp; Components</td>\n",
       "      <td>https://www.digitalstore.co.ke/collections/com...</td>\n",
       "    </tr>\n",
       "    <tr>\n",
       "      <th>3</th>\n",
       "      <td>Photography</td>\n",
       "      <td>https://www.digitalstore.co.ke/collections/cam...</td>\n",
       "    </tr>\n",
       "    <tr>\n",
       "      <th>4</th>\n",
       "      <td>Printers &amp; Inks</td>\n",
       "      <td>https://www.digitalstore.co.ke/collections/htt...</td>\n",
       "    </tr>\n",
       "    <tr>\n",
       "      <th>5</th>\n",
       "      <td>Home Entertainment</td>\n",
       "      <td>https://www.digitalstore.co.ke/collections/tvs</td>\n",
       "    </tr>\n",
       "    <tr>\n",
       "      <th>6</th>\n",
       "      <td>Networking &amp; Telecommunications</td>\n",
       "      <td>https://www.digitalstore.co.ke/collections/net...</td>\n",
       "    </tr>\n",
       "    <tr>\n",
       "      <th>7</th>\n",
       "      <td>Electricals &amp; Appliances</td>\n",
       "      <td>https://www.digitalstore.co.ke/collections/ele...</td>\n",
       "    </tr>\n",
       "    <tr>\n",
       "      <th>8</th>\n",
       "      <td>Conferencing Equipment</td>\n",
       "      <td>https://www.digitalstore.co.ke/collections/con...</td>\n",
       "    </tr>\n",
       "    <tr>\n",
       "      <th>9</th>\n",
       "      <td>Software</td>\n",
       "      <td>https://www.digitalstore.co.ke/collections/sof...</td>\n",
       "    </tr>\n",
       "    <tr>\n",
       "      <th>10</th>\n",
       "      <td>Collection's name</td>\n",
       "      <td>https://www.digitalstore.co.ke#</td>\n",
       "    </tr>\n",
       "  </tbody>\n",
       "</table>\n",
       "</div>"
      ],
      "text/plain": [
       "                                 name  \\\n",
       "0                         Smartphones   \n",
       "1                           Computers   \n",
       "2   Computer Accessories & Components   \n",
       "3                         Photography   \n",
       "4                     Printers & Inks   \n",
       "5                  Home Entertainment   \n",
       "6     Networking & Telecommunications   \n",
       "7            Electricals & Appliances   \n",
       "8              Conferencing Equipment   \n",
       "9                            Software   \n",
       "10                  Collection's name   \n",
       "\n",
       "                                                 link  \n",
       "0   https://www.digitalstore.co.ke/collections/pho...  \n",
       "1   https://www.digitalstore.co.ke/collections/des...  \n",
       "2   https://www.digitalstore.co.ke/collections/com...  \n",
       "3   https://www.digitalstore.co.ke/collections/cam...  \n",
       "4   https://www.digitalstore.co.ke/collections/htt...  \n",
       "5      https://www.digitalstore.co.ke/collections/tvs  \n",
       "6   https://www.digitalstore.co.ke/collections/net...  \n",
       "7   https://www.digitalstore.co.ke/collections/ele...  \n",
       "8   https://www.digitalstore.co.ke/collections/con...  \n",
       "9   https://www.digitalstore.co.ke/collections/sof...  \n",
       "10                    https://www.digitalstore.co.ke#  "
      ]
     },
     "execution_count": 18,
     "metadata": {},
     "output_type": "execute_result"
    }
   ],
   "source": [
    "category_urls = pd.read_csv('categories_table')\n",
    "category_urls"
   ]
  },
  {
   "cell_type": "markdown",
   "id": "ed196125-ee69-443b-93c4-b3334237fcfc",
   "metadata": {},
   "source": [
    "#### Now lets fetch data from the first category(Smartphones)"
   ]
  },
  {
   "cell_type": "code",
   "execution_count": 19,
   "id": "1307de8a-1add-4558-ac69-e87ebbc97c00",
   "metadata": {},
   "outputs": [
    {
     "data": {
      "text/plain": [
       "['https://www.digitalstore.co.ke/collections/phones-tablets',\n",
       " 'https://www.digitalstore.co.ke/collections/desktops-monitors',\n",
       " 'https://www.digitalstore.co.ke/collections/computer-accessories-components']"
      ]
     },
     "execution_count": 19,
     "metadata": {},
     "output_type": "execute_result"
    }
   ],
   "source": [
    "category_links = category_urls['link'].tolist() # Converts the link column to a list that can be referenced.\n",
    "category_links[:3]"
   ]
  },
  {
   "cell_type": "markdown",
   "id": "9715dd9a-7bcb-4831-abff-d9b139c0cb5d",
   "metadata": {},
   "source": [
    "We will develop a function named 'smartphone_csv' which takes 'category links' and 'number of pages' within a category as input parameters. This function will generate a table comprising 'Vendor Names', 'Product Name and Description', and 'Product Price'. Finally, it will return a data frame resembling the constructed table."
   ]
  },
  {
   "cell_type": "code",
   "execution_count": null,
   "id": "52b5326b-2ee8-4870-b31b-592262b8c73f",
   "metadata": {},
   "outputs": [],
   "source": [
    "def smartphone_csv(url, pages):                # Smartphones url and number of pages are given as inputs.\n",
    "    url_li = []                                # This list will contain all the links to the pages in the smartphones category.\n",
    "    if pages > 1:\n",
    "        for i in range(1, pages + 1):\n",
    "            url_li.append(url + '?page=' + str(i))          # Creates a list of urls if the category only has multiple pages.\n",
    "    else:\n",
    "        url_li.append(url)                                  # Creates a list of the url if the category only has 1 page.\n",
    "\n",
    "    # Lists to store the collected data from all pages:\n",
    "    final_vendors_names = []\n",
    "    final_products_names = []\n",
    "    final_products_prices = []\n",
    "\n",
    "\n",
    "    # Iterating through all the pages in the smartphones category to get the page contents:\n",
    "    for urlli in url_li:\n",
    "        index_of_equal_sign = urlli.index('=')            # Define character (=) as a positional index that helps us extract the page numbers.\n",
    "        print('Page ' + urlli[index_of_equal_sign + 1:])                 # Tells us the page number the code is iterating through.\n",
    "        response = requests.get(urlli)\n",
    "        print(response.status_code)                 # Outputs '200' to show that the code successfully retrieved the data.\n",
    "    \n",
    "        page_contents = response.text\n",
    "        \n",
    "        doc = BeautifulSoup(page_contents, 'html.parser')\n",
    "        \n",
    "        # Lets fetch the vendor's names:\n",
    "        vender_a_tags = doc.find_all('a', class_ = \"product-item__vendor link\")\n",
    "        \n",
    "        # Lets fetch the product's name and description: \n",
    "        products_a_tags = doc.find_all('a', class_ = \"product-item__title text--strong link\")\n",
    "        \n",
    "        # Lets fetch the product's price:\n",
    "        classes = \"price price--highlight\"\n",
    "        products_span_tags = doc.find_all('span', {'class': classes})\n",
    "    \n",
    "        # List of vendors names:\n",
    "        vendors_names = []\n",
    "    \n",
    "        for vname in vender_a_tags:\n",
    "            vendors_names.append(vname.text)\n",
    "            \n",
    "        final_vendors_names.extend(vendors_names)         # Combines the list of venders from all the pages.\n",
    "        \n",
    "    \n",
    "        # List of product price:\n",
    "        products_price = []\n",
    "        for pprice in products_span_tags:\n",
    "            products_price.append(pprice.text.strip())         # .strip() removes spaces and any character adjacent to the spaces.\n",
    "                \n",
    "        final_products_prices.extend(products_price)        # combines the list of product prices from all the pages.\n",
    "        \n",
    "    \n",
    "        # List of product names and description:\n",
    "        products_names = []\n",
    "        \n",
    "        for pname in products_a_tags:\n",
    "            products_names.append(pname.text)\n",
    "\n",
    "        final_products_names.extend(products_names)         # combines the list of product names from all the pages\n",
    "        \n",
    "\n",
    "        # Lets find out if the data we are getting have equal lengths. This also helps check for missing values in every page:\n",
    "        if len(vendors_names) == len(products_price) == len(products_names):\n",
    "            message_1 = 'The lists in this page have equal lengths. Proceed to create a table!!!!'\n",
    "        else:\n",
    "            message_1 = 'Oops, check the length of the elements in page ' + str(i) + '!'\n",
    "        print(message_1)\n",
    "        print(\"\\n\")\n",
    "        \n",
    "    # Printing the combined lists from all page:\n",
    "    print(\"\\n\", 'Printing the final vendors list!!')\n",
    "    print(\"\\n\",final_vendors_names)\n",
    "    print(\"\\n\", 'Printing the final products list!!')\n",
    "    print(\"\\n\",final_products_names)\n",
    "    print(\"\\n\", 'Printing the final prices list!!')\n",
    "    print(\"\\n\",final_products_prices)\n",
    "\n",
    "    # Creating a dictionary containing the all the final lists that we've created:\n",
    "    print(\"\\n\", 'Printing the final dictionary!!') \n",
    "    smartphones_dict = {\n",
    "    'vendor': final_vendors_names,\n",
    "    'product name and description':final_products_names,\n",
    "    'price': final_products_prices\n",
    "    }\n",
    "    smartphones_df = pd.DataFrame(smartphones_dict)          # Converts the smartphones dictionary into a dataframe.\n",
    "\n",
    "    # Creating the final table:\n",
    "    smartphones_df.to_csv('smartphones_table', index= None)       # Converts smartphones_df dataframe into a table that is created in our directory as smartphones_table.\n",
    "    \n",
    "    return smartphones_df               # Returns the final data that we've scrapped from the smartphones category."
   ]
  },
  {
   "cell_type": "code",
   "execution_count": 21,
   "id": "a8f55c95-874c-4d14-882c-3d2337dc2541",
   "metadata": {},
   "outputs": [
    {
     "name": "stdout",
     "output_type": "stream",
     "text": [
      "Page 1\n",
      "200\n",
      "The lists in this page have equal lengths. Proceed to create a table!!!!\n",
      "\n",
      "\n",
      "Page 2\n",
      "200\n",
      "The lists in this page have equal lengths. Proceed to create a table!!!!\n",
      "\n",
      "\n",
      "Page 3\n",
      "200\n",
      "The lists in this page have equal lengths. Proceed to create a table!!!!\n",
      "\n",
      "\n",
      "Page 4\n",
      "200\n",
      "The lists in this page have equal lengths. Proceed to create a table!!!!\n",
      "\n",
      "\n",
      "Page 5\n",
      "200\n",
      "The lists in this page have equal lengths. Proceed to create a table!!!!\n",
      "\n",
      "\n",
      "Page 6\n",
      "200\n",
      "The lists in this page have equal lengths. Proceed to create a table!!!!\n",
      "\n",
      "\n",
      "Page 7\n",
      "200\n",
      "The lists in this page have equal lengths. Proceed to create a table!!!!\n",
      "\n",
      "\n",
      "Page 8\n",
      "200\n",
      "The lists in this page have equal lengths. Proceed to create a table!!!!\n",
      "\n",
      "\n",
      "Page 9\n",
      "200\n",
      "The lists in this page have equal lengths. Proceed to create a table!!!!\n",
      "\n",
      "\n",
      "Page 10\n",
      "200\n",
      "The lists in this page have equal lengths. Proceed to create a table!!!!\n",
      "\n",
      "\n",
      "Page 11\n",
      "200\n",
      "The lists in this page have equal lengths. Proceed to create a table!!!!\n",
      "\n",
      "\n",
      "Page 12\n",
      "200\n",
      "The lists in this page have equal lengths. Proceed to create a table!!!!\n",
      "\n",
      "\n",
      "Page 13\n",
      "200\n",
      "The lists in this page have equal lengths. Proceed to create a table!!!!\n",
      "\n",
      "\n",
      "\n",
      " Printing the final vendors list!!\n",
      "\n",
      " ['Apple', 'BNSL', 'Xiaomi', 'Tecno', 'Tecno', 'Vfone', 'Infinix', 'Xiaomi', 'Samsung', 'Samsung', 'Infinix', 'Nokia', 'Xiaomi', 'Tecno', 'Samsung', 'Samsung', 'Xiaomi', 'OnePlus', 'OnePlus', 'Xiaomi', 'Xiaomi', 'Infinix', 'Digital Store, Kenya', 'Huawei', 'Itel', 'Tecno', 'Huawei', 'Samsung', 'Samsung', 'Tecno', 'Samsung', 'Infinix', 'Infinix', 'Bebe', 'Bebe', 'Kidiby', 'Lenovo', 'Samsung', 'Samsung', 'Samsung', 'Samsung', 'Samsung', 'Samsung', 'Apple', 'Apple', 'Lenovo', 'Lenovo', 'Lenovo', 'Lenovo', 'Nokia', 'Samsung', 'Tecno', 'Itel', 'Itel', 'Vfone', 'Itel', 'Itel', 'Itel', 'Itel', 'Nokia', 'Infinix', 'Infinix', 'Oppo', 'Oppo', 'Itel', 'Infinix', 'Xiaomi', 'Xiaomi', 'Xiaomi', 'Xiaomi', 'Xiaomi', 'Xiaomi', 'Xiaomi', 'Xiaomi', 'Samsung', 'itel', 'Realme', 'Xiaomi', 'Tecno', 'Itel', 'Itel', 'Oppo', 'Oppo', 'Oppo', 'Oppo', 'Oppo', 'Infinix', 'Infinix', 'Infinix', 'Infinix', 'Infinix', 'Infinix', 'Infinix', 'Infinix', 'Infinix', 'Tecno', 'Tecno', 'Tecno', 'Tecno', 'Tecno', 'Tecno', 'Tecno', 'Tecno', 'Tecno', 'Huawei', 'BSNL Penta', 'Amazon', 'Smart 2030', 'Smart 2030', 'Vivo', 'Digital Store, Kenya', 'Vivo', 'Itel', 'Budi', 'Budi', 'Itel', 'Itel', 'Itel', 'Samsung', 'Samsung', 'Samsung', 'Itel', 'Samsung', 'Samsung', 'Samsung', 'Samsung', 'Samsung', 'Samsung', 'Samsung', 'Samsung', 'Samsung', 'Samsung', 'Samsung', 'Realme', 'Realme', 'Realme', 'Realme', 'Realme', 'Realme', 'Huawei', 'Huawei', 'Huawei', 'Xiaomi', 'Huawei', 'X-Tigi', 'X-Tigi', 'X-Tigi', 'X-TIGI', 'X-TIGI', 'Huawei', 'Huawei', 'Huawei', 'Huawei', 'Huawei', 'Huawei', 'Vivo', 'Vivo', 'Vivo', 'Digital Store, Kenya', 'Vivo', 'Vivo', 'Vivo', 'Vivo', 'OnePlus', 'OnePlus', 'OnePlus', 'One Plus', 'One Plus', 'One Plus', 'One Plus', 'One Plus', 'Nokia', 'Nokia', 'Nokia', 'Xiaomi', 'SQ', 'SQ', 'Xiaomi', 'Xiaomi', 'Xiaomi', 'Xiaomi', 'Samsung', 'Xiaomi', 'Samsung', 'Xiaomi', 'Samsung', 'Xiaomi', 'Apple', 'Apple', 'Apple', 'Apple', 'Apple', 'Apple', 'Apple', 'Infinix', 'Apple', 'Apple', 'Infinix', 'Infinix', 'Apple', 'Xiaomi', 'Xiaomi', 'Redmi', 'Redmi', 'Apple', 'Xiaomi', 'Oppo', 'Tecno', 'Tecno', 'Tecno', 'Tecno', 'Tecno', 'Lenovo', 'Lenovo', 'Lenovo', 'Lenovo', 'Nokia', 'Infinix', 'Infinix', 'Infinix', 'Tecno', 'Infinix', 'Tecno', 'Tecno', 'Tecno', 'Tecno', 'Tecno', 'Tecno', 'Tecno', 'Oppo', 'Huawei', 'Samsung', 'Huawei', 'Tecno', 'Tecno', 'Tecno', 'Tecno', 'Tecno', 'Tecno', 'Tecno', 'Tecno', 'Tecno', 'Tecno', 'Samsung', 'Samsung', 'Samsung', 'Samsung', 'Samsung', 'Samsung', 'Samsung', 'Samsung', 'Samsung', 'XIAOMI', 'Huawei', 'Samsung', 'Samsung', 'Samsung', 'Samsung', 'Samsung', 'Samsung', 'Tecno', 'Tecno', 'Huawei', 'Xiaomi', 'Xiaomi', 'Xiaomi', 'Samsung', 'Samsung', 'Samsung', 'Huawei', 'Xiaomi', 'Samsung', 'Samsung', 'Samsung', 'Samsung', 'Samsung', 'Samsung', 'Xiaomi', 'Xiaomi', 'Xiaomi', 'Xiaomi', 'Xiaomi', 'Xiaomi', 'Huawei', 'Huawei', 'Blackberry', 'Samsung', 'Huawei', 'Tecno', 'Tecno', 'Tecno', 'Samsung', 'Samsung', 'Huawei', 'Huawei', 'Huawei']\n",
      "\n",
      " Printing the final products list!!\n",
      "\n",
      " ['Apple iPhone 14 Pro Max Smartphone - 6GB RAM, 128GB ROM, 6.7 inches Display', 'BSNL Penta P40 Pro Tablet - Dual SIM, 4GB RAM 64GB Storage , 10.1 Inch Display', 'Xiaomi Redmi Note 11 Smart Phone 4GB 128GB 6.43 Display', 'Tecno spark 3 pro KB8 Smartphone- 2GB RAM + 32GB ROM, 6.2\", Android 9.0 (Pie), 4G LTE,3500 mAh', 'Tecno Spark 7 Pro Smartphone 4GB RAM, 128 GB Storage', 'Vfone Y17s Smartphone - 2GB RAM, 32GB ROM,8MP Camera,3500mAH,Dual SIM, 6.3-inch Display', 'Infinix Zero X Pro Smartphone - 8GB RAM, 256GB ROM, 108+8+8M Triple Main Camera, 6.67-inch Display, Dual SIM', 'Xiaomi Redmi Note 10s Smartphone - 8GB RAM ,128GB 6.43 inch Display', 'Samsung Galaxy A03 Core Smartphone - 4GB RAM ,  64GB ROM , 5000mAh Battery', 'Samsung Galaxy S10 5G Smartphone-  6.7\" inch,  8GB RAM + 256GB ROM ,12MP+12MP+16MP Triple Camera , 4G LTE , 4500 mAh', 'Infinix Zero 20 4G Smartphone -8GB RAM, 256 Storage, 108MP Camera, 4500 mAh, 6.7 inches Display', 'Nokia G11 Smartphone - 4GB RAM, 64GB ROM, 13MP + 2MP +2MP Camera, 5050mAH ,Dual SIM, 6.5-inch Display', 'Xiaomi Redmi  Note 11 Pro Smartphone - 6GB RAM, 128GB ROM, 108MP + 8MP +2MP Camera, 5000mAh, 6.67 Inch Display', 'Tecno Pova Neo Smartphone - 4GB RAM, 64GB ROM, 13MP + 8MP Camera, 6000mAH, Dual SIM, 6.8-Inch Display', 'Samsung Galaxy A13 Smartphone - 4GB RAM , 64GB ROM , 5000mAh Battery', 'Samsung Galaxy F62 Smartphone, 6GB RAM 128GB ROM, 7000mAh Battery', 'Xiaomi Poco F3 Smartphone, 6GB RAM 128GB ROM, Battery 5160mAh', 'OnePlus Nord 2 5G Smart Phone 8GB/128GB 6.43 inches Display', 'OnePlus 9 Pro 5G Smart Phone 12GB/256GB 6.7 inch Display', 'Xiaomi Redmi note 10 pro Smart Phone 8GB/128GB 6.67 inches Display', 'Xiaomi Redmi 10 Smart Phone 6GB/128GB 6.5 Inch Display', 'Infinix Smart HD 2021 Smart Phone,6.1\" , 2GB RAM + 32GB  (Dual SIM), 3G LTE, 5000mAh', 'Amazon Kindle Paperwhite 10th Gen eReader -8GB, 6\" Touch Display,Built in Light,Black', 'Huawei Y6 Prime 2019 Smartphone- 32GB ROM + 2GB RAM, 6.09\", Android 9.0 (Pie), 3020mAh', \"Itel A16 Plus-5.0'' 1GB RAM, 8GB Storage\", 'Techno Spark 7 PR65 Smartphone - 2GB RAM, 32 GB Storage', 'Huawei Nova 7i Smartphone - 6.4″, 128GB + 8GB RAM, Quad 48MP +8MP+2MP +2MP Back Camera + 16MP Front Camera, 4G, 4200 MAh', 'Samsung Galaxy A11 (SM-A115) Smartphone: 6.4\" inch - 2GB RAM - 32GB ROM - 13MP+5MP+2MP Camera - 4G - 4000 mAh Battery', 'Samsung Galaxy A31 (SM-A315) Smartphone: 6.4\" inch - 4GB RAM - 128GB ROM - 48MP+8MP+5MP+5MP Camera - 4G - 5000 mAh', 'Tecno Camon 15 Pro Smartphone- 64GB RAM + 4GB ROM - 48MP + 2MP + 2MP + AI Quad Camera - 4G - 5000mAh', 'SAMSUNG GALAXY A10s Smartphone-2GB + 32GB,Dual 13MP + 2MP(rear) + 8MP(selfy), 3,900 mAh', 'Infinix Zero 5G Smartphone - 8 GB RAM, 128 GB Storage,  48 MP Camera, 5000 mAh, 6.78 inch Display', 'Infinix Zero Ultra 5G Smartphone - -8GB RAM, 256 Storage, 200MP Camera, 4500 mAh, 6.8 inch Display', 'Bebe B58 Tablet - 2GB RAM, 32GB ROM, WiFi, 5.0 MP Camera, 7 Inch Display', 'Bebe  B68Tablet - 2GB RAM, 32GB ROM, Dual SIM, 5.0 MP Camera, 7 Inch Display', 'Kidiby V2 Dual SIM Smart Tablet -4 GB RAM, 64 GB ROM, 2MP camera, 7 Inch display', 'Lenovo TB7304I Tab 7 Essential - 2 GB RAM, 16 GB ROM,  3500mAh,5MPCamera, 5.2\" Display', 'Samsung Galaxy Z Fold 4 Smartphone - 12 GB ROM, 512GB RAM, 50MP Camera, 4,400 mAh, 7.6 inch Display', 'Samsung Galaxy S21 FE 5G Smartphone - 128GB RAM, 6GB ROM, 32 MP Camera, 4500 battery, 6.4 inches Dynamic AMOLED display', 'Samsung Galaxy Tab A8 Tablet - 32GB RAM, 3 GB ROM, 8 MP, 7040 mAh, 10.4 inches Display', 'Samsung Galaxy Tab A8 Tablet - 64GB RAM, 3 GB ROM, 8 MP, 7040 mAh, 10.4 inches Display', 'Samsung Galaxy A04S Smartphone -  4GB ROM, 128GB RAM ,50MP, 5000 mAh, 6.5 inches Display', 'Samsung Galaxy A04S Smartphone -  4GB ROM, 64GB RAM ,50MP, 5000 mAh, 6.5 inches Display', 'Apple iPhone 14 Pro Max Smartphone - 6GB RAM, 256GB ROM, 6.7 inches Display', 'Apple iPhone 14 Pro Max Smartphone - 6GB RAM, 512GB ROM, 6.7 inches Display', 'Lenovo X306X M10 Tablet ZA6V0152AE - 4GB RAM, 64GB ROM, 8MP Camera, 5000 mAh Battery, 10.1” Inch Display 4G Single SIM Tablet', 'Lenovo 8505X M8 Gen 2 Tablet (ZA5H0047AE) - 3GB RAM, 32GGR ROM, (V), 5MP Camera, 5100 mAh Battery, 7” Inch Display, 4G Single SIM Tablet', 'Lenovo 7306 Tablet (ZA8D0015AE) – 2GB RAM, 32GB ROM, 2MP Camera, 3750 mAh Battery, 7” Inch Display, 4G Single SIM Tablet', 'Lenovo X6C6X Tab K10 Tablet (ZA8V0009AE) - 4GB RAM, 64GB ROM, 8MP Camera, 7700 mAh Battery, 10.3” Inch Display 4G Single SIM Tablet', 'Nokia C10 Smartphone - 1GB RAM, 32GB ROM, 5MP Camera,300mAH, Dual SIM, 6.52 Inch Display', 'Samsung Galaxy A03s Smartphone - 2GB RAM, 32GB ROM, 13MP Camera, 5000mAH, 6.5 Inch Display', 'Tecno Spark 9 Pro Smartphone - 4GB, 64GB, 50+2MP+QVGA Triple Main Camera, Dual SIM, 5000mAh, 6.8-inch Display, Android 12', 'Itel ICU-41 Fast Charger - Dual output, 2.4 A', 'Itel ICC-11M Car Charger - 3.4A Fast Charging, 2 USB ports', 'Vfone Y17s Smartphone - 2GB RAM, 32GB ROM, 6.3-inch Display, Dual SIM', 'Itel A25 Pro Smartphone - 2GB RAM, 32GB ROM, 5-inch Display, Dual SIM', 'Itel A14 Plus Smartphone - 1GB RAM, 8GB ROM, Dual SIM, 6.52-inch Display', 'Itel A14 Plus Smartphone - 1GB RAM, 8GB ROM, Dual SIM, 6.52-inch Display', 'Itel A25 Pro Smartphone - 2GB RAM, 32GB ROM, 3020mAH, Dual SIM, 5-inch Display', 'Nokia C21 Plus Smartphone - 2GB RAM, 64GB ROM, 13MP + 2MP Camera, 4000mAH, Dual SIM, 6.5-inch display', 'Infinix Zero 5G Smartphone - 8GB RAM, 128GB ROM, 5000mAh, 48+13+2MP Camera, Dual SIM, 6.78-Inch Display', 'Infinix Note 12 VIP Smartphone - 8GB RAM, 256GB ROM, 108+13+2MP Triple Main Camera, 6.7-inch Display, Dual SIM', 'Oppo A35 Smartphone - 5G, 4GB RAM, 64GB ROM, 13MP Camera, 4230 mAh Battery, 6.52-inch Display', 'Oppo A15 Smartphone - 3GB RAM, 32GB ROM, 13M Camera, 4230mAh Battery, 6.52-inch Display, Dual SIM', 'Itel A58 Pro Smartphone - 2GB RAM ,32GB ROM , 5MP Camera, 4000mAh, Dual SIM, 6.6-Inch Display', 'Infinix Hot 10 Play Smartphone - 4GB RAM, 64GB ROM, 13MP Camera, 6000mAH Battery, 6.82-inch Display', 'Xiaomi Redmi 10A Smartphone - 2GB RAM, 32GB ROM,  13MP Camera, 5000 mAH, 6.53-inch Display', 'Xiaomi Redmi 10A Smartphone - 3GB RAM, 64GB ROM, 13MP Camera, 5000 mAH, 6.53-inch Display', 'Xiaomi Redmi  10A Smartphone - 4GB RAM, 128GB ROM, 13MP Camera, 5000mAH, Dual SIM, 6.53-inch Display', 'Xiaomi Redmi 10C Smartphone - 4GB RAM, 128GB ROM, 50MP + 8MP + 2MP + 2MP Camera,  5000 mAh, 6.71-inch Display', 'Xiaomi Redmi 10C  Smartphone - 4GB RAM, 64GB ROM, 50MP +2MP Camera, 5000 mAh, 6.71-inch Display', 'Xiaomi Redmi 10 2022 Smartphone - 4GB RAM, 64GB ROM, 50MP + 8MP + 2MP + 2MP Camera , 5000mAH, 6.5-inch Display', 'Xiaomi Redmi 10 2022  Smartphone - 4GBRAM, 128GB ROM, 50MP + 8MP + 2MP + 2MP Camera , 5000mAH, 6.5 Inch Display', 'Xiaomi Redmi  10 2022 Smartphone - 6GB RAM, 128GB ROM 50MP + 8MP + 2MP + 2MP Camera, 5000mAh, 6.5 Inch Display', 'Samsung A02 Smartphone - 2GB RAM,32GB ROM, 13MP + 2MP Camera, 5000mAh, 6.5 Inch Display', 'Itel ICU- 42 Adapter 2A Fast Charger', 'Realme C35 Smartphone - 4GB RAM, 128GB ROM, 50MP +2MP +2MP Camera, 5000mAh, 6.6 Inch Display', 'Xiaomi Redmi A1 Plus Smartphone - 2GB RAM,32GB ROM, 8 MP Camera, 5000 mAh, Dual sim, 6.52\" Display', 'Tecno Camon 18 Premier Smartphone - 8GB RAM, 256GB ROM, 64\\u2009MP + 12\\u2009MP + 8\\u2009MP Triple Rear Camera, 4750\\u2009mAH, 6.7-Inch Display', 'Itel P38 Smartphone - 2GB RAM, 32GB ROM, 8MP Camera, 5000mAH, 6.6-Inch Display', 'Itel P17 Pro Smartphone - 2GB RAM, 32GB ROM, 5MP Camera, 4000mAH, 5.45-Inch Display', 'Oppo Reno 7 5G Smartphone - 8GB RAM, 256GB ROM, 4500mAH, 64MP + 8MP+ 2MP Camera, 6.43-Inch Display', 'Oppo Reno 7 Smartphone 8GB RAM, 256GB ROM, 4500mAH,64MP Camera, Dual SIM, 6.4-Inch Display', 'Oppo A96 Smartphone - 8GB RAM, 256GB ROM, 48MP Camera, 4500mAH,6.43-Inch Display', 'Oppo A76 Smartphone -  6GB RAM,128GB ROM,13MP +2MP Camera 5000mAH, 6.56 Inch Display', 'OPPO A16K Smartphone - 3GB RAM, 32GB ROM, 4230 mAH, 13MP Camera, Dual SIM, 6.5-Inch Display', 'Infinix Note 12 Pro 5G Smartphone - 8GB RAM,128GB ROM, 5000mAH, 108MP +2MP +2MP Camera, 6.7-Inch Display', 'Infinix Note 12 Pro 6.7\" 4G 8GB RAM/128GB ROM 5000mAh, 50MP Camera SmartPhone', 'Infinix Hot 12i Smartphone - 4GB RAM, 128GB ROM, 6000mAH, Dual SIM, 6.82-Inch Display', 'Infinix Hot 12i Smartphone - 3GB RAM, 64GB ROM, 50MP Camera, 6000mAH, 6.82-Inch Display', 'Infinix Hot 12 Play Smartphone - 4GB RAM, 128GB ROM, 13MP + 2MP Camera, 5000mAH, Dual SIM, 6.82-Inch Display', 'Infinix Hot 12 Play Smartphone - 4GB RAM, 64GB ROM, 8MP Camera, 6000mAH, Dual SIM, 6.82-Inch Display', 'Infinix Hot 12i Smartphone - 2GB RAM, 64GB ROM, 50MP Camera, 6000mAH, 6.82-Inch Display', 'Infinix Smart 6 Smartphone - 2GB RAM, 32 GB ROM, 8MP +0.8MP Camera, 5000mAH, 6.6-Inch Display', 'Infinix Smart 6 Smartphone - 2GB RAM, 32GB ROM, 8MP + 0.8MP Camera, 5000mAH, 6.6-Inch Display', 'Tecno Camon 19 Pro 5G Smartphone - 8GB RAM, 256GB ROM, 64MP Camera, 5000mAH, Dual SIM, 6.8-Inch Display', 'Tecno Camon 19 Pro 5G Smartphone - 6GB RAM, 128GB ROM, 64MP Camera, 5000mAH, Dual SIM, 6.8-Inch Display', 'Tecno Camon 19 Pro 5G Smartphone - 4GB RAM, 128GB ROM, 64MP + 50MP + 2MP Camera,5000mAH, 6.8-Inch Display', 'Tecno Spark 9T Smartphone - 4GB RAM,64GB ROM, 13MP + 2MP Tripple Rear Camera, 5000mAH, Dual SIM, 6.6-Inch Display', 'Tecno Spark 8C Smartphone - 2GB RAM, 64GB ROM, 13MP + 2MP 5000MAH', 'Tecno Spark 8C Smartphone - 3GB RAM, 64GB ROM, 13MP Camera 5000MAH, 6.6Inch Display', 'Tecno Camon 18P Smartphone - 8GB RAM, 128GB ROM 48MP+13MP+2MP Back Triple Camera 6.8Inch Display', 'Tecno Pop 6 Go Smartphone -2GB RAM, 32GB ROM, 5MP Camera, 4000mah, Dual Sim 6.0 Inch Display', 'Tecno Pop 2F Smartphone - 1GB RAM, 16GB ROM, 8MP Camera, 2400mah, 5.5 Inch Display', 'Huawei P10 Lite, 5.2″, 32GB (Dual SIM) Mobile Phone', 'BSNL Penta K15 IPS Screen 7 inch Display 2GB100632', 'AMAZON FIRE HD TABLET 32GB WIFI MIX 2GB RAM 8 Inch', 'Smart 2030 Study Tablet B742 7inch, 16GB+1GB RAM', 'Smart 2030 Kids Study Tab B85', 'Vivo Y53 2GB RAM, 16GB ROM 2500\\u2009mAh Battery Smartphone', 'Vivo Y21 3GB RAM, 64GB ROM 5000\\u2009mAh Battery Smartphone', 'Vivo V20 8GB RAM, 256GB ROM 4500\\u2009mAh Battery Smartphone', 'Itel A58 Smartphone - 1GB  RAM , 16GB  ROM , 4000mAh Battery', 'Budi Double USB Charger- 2 Ports , 1.2M Cable Length', 'Budi Mobile Phone Charger - 2 Ports , LED Indicator', 'Itel A16 Smartphone -  512MB RAM , 8GB ROM , 2050mAh Battery', 'Itel A56 Smartphone -  1GB RAM , 16GB ROM , 4000mAh Battery', 'Itel A37 Smartphone - 1GB RAM , 16GB ROM , 3020mAh Battery', 'Samsung Galaxy A72 Smartphone - 6GB RAM , 128GB ROM , 5000mAh Battery', 'Samsung Galaxy A33 Smartphone - 6GB RAM , 128GB ROM , 5000mAh Battery', 'Samsung Galaxy A13 Smartphone - 4GB RAM , 128GB ROM , 5000mAh Battery', 'Itel S17 Smartphone - 1GB RAM 16GB ROM, 5,000mAh Battery', 'Samsung Galaxy M51 Smartphone - 6GB RAM , 128GB ROM , 7000mAh Battery', 'Samsung Galaxy A72 Smartphone - 8GB RAM , 256GB ROM , 5000mAh Battery', 'Samsung Galaxy A52s Smartphone, 8GB RAM 256GB ROM, 4500mAh Battery', 'Samsung Galaxy M31s Smartphone - 6GB RAM ,128GB ROM , 6000 mAh Battery', 'Samsung Galaxy F42 Smartphone -  6GB RAM , 128GB ROM , 5000mAh Battery', 'Samsung Galaxy F62 Smartphone - 6GB RAM , 128GB ROM , 7000mAh Battery', 'Samsung Galaxy M52 Smartphone - 6GB RAM , 128GB ROM , 5000mAh Battery', 'Samsung Galaxy M32 Smartphone, 6GBRAM 128GBROM,5000mAh Battery', 'Samsung Galaxy M12 Smartphone - 6GB RAM , 128GB ROM , 6000 mAh Battery', 'Samsung Galaxy A23 Smartphone - 4GB RAM , 64GB ROM, 5000mAh Battery', 'Samsung Galaxy A23 Smartphone - 4GB RAM , 128GB ROM , 5000mAh Battery', 'Realme GT Master Smartphone - 8GB RAM 128GB ROM, 4300mAh Battery', 'Realme GT Master Smartphone - 6GB RAM 128GB ROM, 4300mAh Battery', 'Realme C25Y Smartphone - 4GB RAM 128GB ROM,5000mAh Battery', 'Realme C21 Smartphone - 3GB RAM 32GB ROM,5000mAh Battery', 'Realme C21 Smartphone - 4GB RAM,  64GB ROM, Main camera: 13 MP + 2 MP + 2 MP, 5000mAh Battery', 'Realme C11 Smartphone - 2GB RAM, 32GB ROM, 5000mAh Battery', 'Huawei Nova 9 Smartphone - 8GB RAM, 128GB ROM , 50MP Camera Resolution', 'Huawei Y9A Smartphone - 8GB RAM ,128GB ROM , 64MP Camera Resolution', 'Huawei Y5p Smartphone- 2GB RAM , 32GB ROM , 8MP Camera Resolution', 'Xiaomi Poco X3 GT Smartphone, 8GB RAM 256GB ROM, Battery 5000mAh', 'Huawei Nova 7i Smartphone- 32GB RAM, 128GB ROM, 64MP+2MP+2MP Camera', 'X-Tigi Hope 10 Pro Tablet- 64GB ROM,3GB RAM, Camera 8MP', 'X-Tigi Hope 10 Pro Tablet- 32GB ROM,3GB RAM ,Camera 8MP', 'X-Tigi Joy 10 Mate Tablet- 32GB ROM,2GB RAM ,Camera 5MP', 'X-Tigi Joy 8 Mate Tablet- 32GB ROM,1GB RAM ,Camera 5MP', 'X-Tigi Hope 7 Max Tablet- 32GB ROM, 1GB RAM, Camera 5MP', 'Huawei Nova 7i Smartphone- 8GB RAM, 128GB ROM, 64MP+2MP+2MP Camera', 'Huawei Nova Y60 Smartphone- 4GB RAM, 64GB ROM, 13MP Camera Resolution', 'Huawei Y9 Prime Smartphone - 4GB RAM, 128GB ROM,  16MP+2MP Camera', 'Huawei Y7 prime Smartphone- 32GB ROM 3GB RAM  13MP + 2MP Camera', 'Huawei P smart Smartphone- 32 GB ROM 3GB RAM 3MP + 2MP  Camera', 'Huawei MatePad T10 Kids Edition Tablet-  32 GB ROM, 2GB RAM 5 MP Camera', 'Vivo V19 4GB RAM, 128GB ROM 4500\\u2009mAh Battery Smartphone', 'Vivo Y20 4GB RAM, 128GB ROM 2500\\u2009mAh Battery Smartphone', 'Vivo Y20s 4GB RAM, 128GB ROM 2500\\u2009mAh Battery Smartphone', 'Vivo Y33 1GB RAM, 128GB ROM 2200\\u2009mAh Battery Smartphone', 'Vivo Y33 4GB RAM, 128GB ROM,5000\\u2009mAh Battery Smartphone', 'Vivo Y12 3GB RAM, 64GB ROM 5000\\u2009mAh Battery Smartphone', 'Vivo Y12s 32 GB, 3 GB RAM ,5000 mAh Battery Smartphone', 'Vivo Y1s 32 GB, 2 GB RAM 4030 mAh Battery Smartphone', 'OnePlus Nord CE 5G Smart Phone 12GB/256GB 6.43 inches Display', 'OnePlus Nord 2 5G Smart Phone 12GB/256GB 6.43 inches Display', 'OnePlus 9 Pro 5G Smart Phone 8GB/256GB 6.7 inch Display', 'OnePlus 9R 5G Smart Phone 12GB/256GB 6.55 Inch Display', 'OnePlus 9R 5G Smart Phone 8GB/256GB 6.55 Inch Display', 'OnePlus 9R 5G Smart Phone 8GB/128GB 6.55 Inch Display', 'OnePlus 9 5G Smart Phone 12GB/256GB 6.55 inch Display', 'OnePlus 9 5G Smart Phone  8GB/128GB 6.55 inch Display', 'Nokia T20 Tablet 4GB/64GB 10.4″ Display', 'Nokia C30 Smart Phone 3GB/64GB 6.82″ Display', 'Nokia C1 2nd Edition Smart Phone 1GB/16GB 5.45 inch Display', 'Xiaomi Redmi 11T 5G Smart Phone - 8GB/256GB 6.67 inches Display', 'SQ Hope 10 Max Tablet, 10.1″, 2GB RAM, 32GB ROM, Dual SIM, 5500mAh', 'SQ smart Hope 10 Pro Tablet 32GB ROM, 3GB RAM, 10.1 inch, battery 6000 mAh,', 'Xiaomi Redmi Note 11 Pro Smart Phone 8GB/128GB 6.67 inches Display', 'Xiaomi Redmi note 10 pro Smart Phone 6GB/128GB 6.67 inches Display', 'Xiaomi Redmi Note 11s Smart Phone 8GB/128GB 6.43\" Display', 'Xiaomi Redmi Note 11s Smart Phone 6GB/128GB 6.43\" Display', 'Samsung Galaxy A53 Smartphone - 8GB RAM , 128GB ROM , 5,000 mAh Battery', 'Xiaomi Redmi Note 10 5G Smart Phone 6GB RAM,128GB 5000mAh Battery', 'Samsung Galaxy A12 Smartphone, 128 GB, 3GB RAM, 5000 mAh Battery', 'Xiaomi Redmi Note 11 Smart Phone 4GB 64GB 6.43 Display', 'Samsung Galaxy A03 Core Smartphone -  2GB RAM ,  32GB ROM , 5000mAh Battery', 'XIAOMI REDMI 9C Smart Phone 128GB/4GB 6.53 inches Display', 'Apple iPhone 7 Smart Phone 2GB RAM  128GB ROM 4.7 inches Display', 'Apple iPhone XS Smartphone  RAM 4GB Storage 256GB Fast charging', 'Apple iPhone 12 Smartphone -4GB RAM, 128GB Storage Battery: 2815mAh Li-Ion', 'Apple iPhone 13 Pro Smartphone 6GB RAM, 256GB Storage (Single SIM)', 'Apple iPhone 13 Pro Max Smartphone-6GB RAM, 256GB Storage (Single SIM)', 'Apple iPhone  13 Pro Smartphone 6GB RAM, 256GB Storage (Single SIM)', 'Apple iPhone 13 Pro Smartphone (Single sim) 6GB ROM 128GB', 'Infinix Note 11 Pro Smart Phone 8GB RAM ,128GB,Software: Android 11, XOS 10', 'Apple iPhone 13 Smartphone -4GB RAM 128GB Storage(Single SIM)', 'Apple 12 Pro Max Smartphone RAM 6GB 256GB Non-removable Li-Ion Battery', 'Infinix Smart 5 Smart Phone 6.6 Inch, 32GB + 2GB RAM (Dual SIM), 4G, 5000MAh', 'Infinix Smart 5(x657) Smart Phone - 2GB RAM, 32GB ROM, 5000MAh, Dual SIM, 6.6-inch Display', 'Apple iPhone 12 Pro Smartphone  6GB RAM 256GB ROM Battery 2815mAh, Li-Ion', 'Xiaomi Redmi 9A Smartphone 2GB RAM ,32GB ROM ,5000 MAh Battery,6.53\" Inch,13MP Camera', 'Xiaomi Redmi C21y Smart Phone  4GB RAM,64GB, 5000mAh Battery', 'Xiaomi Redmi 10 Smartphone,6GB RAM ,128 GB ,5000mAh Battery', 'Xiaomi Redmi Note 10 5G Smart Phone 4GB RAM,128GB 5G 5000mAh Battery', 'Apple iPhone 11 Smartphone  4GB RAM ,64GB, 3046mAh Battery', 'Xiaomi Redmi Note 10s Smartphone - 6GB RAM ,128GB 6.43 inch Display', 'Oppo A16K Smartphone - 4GB 64GB Display 6.52 inch', 'Tecno Spark 8P Smartphone - 128GB, 4GB RAM, 5000mAh Battery, 50MP Camera', 'Tecno Spark 8p Smartphone 64GB-4GB RAM,5000 mAh Battery', 'Tecno Pop 5 Power Smartphone32GB-2GB RAM , 4000mAh battery', 'Tecno Pop 5 GO SMARTPHONE 16GB-1GB RAM,Battery:4000mAh', 'Tecno Pop 5 Pro Smartphone 32GB- 2GB RAM,6000mAh Battery', 'Lenovo Tab M7 (TB-7306X ) Tablet 7\" HD Android Tablet, Quad-Core Processor, 2GB RAM, 32GB Storage, 3590mAh Battery, Android 9 Pie (ZA8D0066AE)', 'Lenovo Tab M10 (HD) 2 GB RAM 32 GB ROM 10.1 inch with Wi-Fi+4G Tablet', 'Lenovo Thinkpad X1 Tablet (20KJ001PUE) - 13\" Inch Display, 8th Generation Intel Core i7, 8GB RAM/256GB Solid State Drive', 'Lenovo TB-X505X Tablet 2G+32GBL-AE – 10.1″ IPS HD – SLATE BLACK (ZA4K0026AE)', 'Nokia 8.3 Smart Phone 5G 8GB/128GB', 'Infinix Smart 3 Smartphone (X5516B)- 5.5\", 16GB + 1GB, (Dual SIM), 4G LTE, 3500 mAh battery', 'Infinix HOT 7 Smartphone (X624) - 16GB, 1GB, 6.2 Inch, 13MP, 4000mAh', 'Infinix Hot 8 Smartphone', 'Tecno Droipad 10D Tablet - Dual SIM - (16GB ROM+2GB RAM) - 4G LTE - 7000mAh', 'Infinix Smart 3 Plus Smartphone (X627)- 6.2\" inch, 3GB RAM + 32GB ROM, 13MP + 2MP + QVGA Camera, 4G ,3500 mAh', 'Tecno Spark 3 KB7J- 32GB ROM + 2GB RAM, 6.2\", Android 8.1 (Oreo), 3G LTE, 3500mAh', 'Tecno Droipad 7D-1GB RAM, 16GB Storage', 'Tecno Droipad 7F  P703 - 16GB Rom - 1GB Ram - 2MP + 5MP - 7Inches - 4000 Mah - Face Unlock', 'Tecno Pouvoir 2 Air (LB6) Smartphone- 2GB RAM + 32GB ROM, 6.0\", Android 8.1 (Oreo, Go Edition), 4G LTE(Dual SIM), 5000mAh', 'Tecno Pouvoir 3 (LC6) Smartphone- 2GB RAM + 32GB ROM, 6.0\", Android 9.0 Pie, 4G LTE(Dual SIM), 5000mAh', 'Tecno POP 2 Plus Smartphone-1GB RAM + 8GB ROM, 5.5\", Android 8.1 Oreo, 3G LTE(Dual SIM), 2400mA', 'Tecno F1 Smartphone - 5.0\" inch, 512MB ROM + 8GB RAM, 5MP Camera, 3G , 2000 mAh Battery', 'Oppo A3s Smartphone- 16GB ROM + 2GB RAM, Android 8.1 Oreo, 4G(Dual SIM), 4230 mAh', 'Huawei Y9 prime 2019 Smartphone RAM: 4GB, Storage: 64GB', \"Samsung A2 Core-5.0'' 1GB RAM, 16GB Storage\", 'Huawei P30 Lite Smartphones RAM: 4GB ,Storage:128GB', 'Tecno Camon 15 Air Smartphone, 6.6″ 3GB Ram 64GB Rom (Dual SIM)', 'Tecno T201 Phone - Dual Sim, FM radio, torch', 'Tecno T529 Phone', 'TECNO POP 5 BD2 Smartphone - Dual Sim 1GB RAM 16B Storage', 'Tecno POP 5 BD2P Smartphone - 2GB RAM 32GB ROM', 'Tecno Pop 5p (BD3) - 6.52-inch 32GB ROM 2GB RAM', 'Tecno Spark Go 2021 Smartphone - 2GB RAM, 32 GB Storage', 'Tecno Spark 8 Smartphone - 2GB RAM, 64 GB Storage', 'Techno Spark 7 KF6 Smartphone - 3GB RAM, 64 GB Storage', 'Tecno Spark 5 Pro Smartphone', 'Samsung Galaxy Tab A7 10.1 Tablet 3GB RAM , 32GB  10.4″ inch Display', 'Samsung Galaxy Tab A7 Lite Tablet, 3GB RAM, 32GB Storage,8.7 Inches Display', 'Samsung Galaxy S21 5G 8GB RAM 256GB Storage', 'Samsung Galaxy S21 5G 8GB RAM 128GB STORAGE', 'Samsung Galaxy Z Flip Smartphone 8GB RAM 256GB STORAGE', 'Samsung Galaxy S20 FE 6GB RAM 128GB STORAGE', 'Samsung Galaxy A12 Smartphone 4GB/128GB 6.5 inches Display Screen', 'Samsung Galaxy A12 Smartphone 4GB RAM, 64GB ROM,Battery,5000mAh', 'Samsung Galaxy A52 6GB/128GB Smartphone (SM-A525FZKGINS)', 'Xiaomi Redmi 9 64GB, 4GB RAM, 6.53\" Full HD + AI Quad Camera, LTE Factory Unlocked Smartphone (B08B3VCF9G)', 'Huawei Nova 5T Smartphone- 6.26\" inch - 8GB RAM - 128GB ROM - 48MP+16MP+2MP+2MP Camera - 4G - 3750mAh Battery', 'Samsung Galaxy M11 (SM-M115) Smartphone- 6.4\" inch - 3GB RAM - 32GB ROM - 13MP+5MP+2MP Triple Camera - 4G - 5000 mAh Battery', 'Samsung Galaxy S20 Ultra 5G (SM-G988) Smartphone- 6.9\" inch - 12GB RAM - 128GB ROM - 108MP+48MP+12MP+TOF Quad Camera - 5G - 5000 Battery', 'Samsung Galaxy S20 Plus (SM-G985) Smartphone- 6.7\" inch - 8GB RAM - 128GB ROM - 12MP+64MP+12MP+TOF Quad Camera - 4G - 4500 mAh Battery', 'Samsung Galaxy S20 (SM-G980) Smartphone: 6.2\" inch - 8GB RAM - 128GB ROM - 12MP+64MP+12MP Triple Camera - 4G - 4000 mAh Battery', 'Samsung Galaxy A71 (SM-A715) Smartphone: 6.7\" inch - 6GB RAM - 128GB ROM - 64MP+12MP+5MP+5MP Camera - 4G - 4500 mAh Battery', 'Samsung Galaxy A51 (SM-A515) Smartphone: 6.5\" inch - 4GB RAM - 128GB ROM - 48MP+12MP+5MP+5MP Camera - 4G - 4000 mAh', 'Tecno Camon 15 Premier Smartphone- 6.6\" inch - 6GB RAM + 128GB ROM - 64MP+5MP+2MP+AI Quad Camera - 4G - 4000mAh', 'Tecno Camon 15 Air Smartphone- 6.6\" inch - 3GB RAM + 64GB ROM - 48MP+2MP+2MP+AI Quad Camera - 4G - 5000mAh', 'Huawei Y5 2018 lite Smartphone - 1GB RAM, 16GB Internal Storage, 8MP Camera', 'Xiaomi Redmi 7A smartphone- 5.45\" inch, 2GB RAM + 16GB ROM, 13MP (Rear)+  5MP (Front), 4G, 4000 mAh Battery', 'Xiaomi Redmi Note 8 Pro Smartphone- 6.3\" inch, 6GB RAM + 128GB ROM, 64MP+8MP+2MP+2MP Quad Camera, 4G, 4500 mAh Battery', 'Xiaomi Redmi Note 7 Smartphone- 6.3\" inch, 4GB RAM + 128GB ROM, 48MP+5MP Dual Camera, 4G, 4000 mAh Battery', 'Samsung Galaxy A50s (A507) Smartphone- 6.4\" inch, 4GB RAM + 128GB ROM, 48MP+8MP+5MP Camera, 4G, 4000 mAh Battery', 'Samsung Galaxy S9 Plus (G965FD) Smartphone- 6.2\" inch, 6GB RAM + 64GB ROM, Dual 12MP+12MP Camera, 4G LTE, 3500 mAh Battery', 'Samsung Galaxy Note 9 (N960) Smartphone- 6.4\" inch, 6GB RAM - 128GB ROM, Dual 12MP+12MP Camera ,4G LTE, 4000 mAh Battery', 'Huawei P30 Pro Smartphone- 6.47\" inch, 6GB RAM + 256GB ROM, 40MP+20MP+8MP Triple Cam, 4G, 4200mAh Battery', 'Xiaomi Pocophone F1 Smartphone- 6.18\" inch, 6GB RAM + 128GB ROM, Dual 12MP+2MP Camera, 4G LTE, 4000 mAh Battery', 'Samsung Galaxy S10e (G970FD) Smartphone- 5.8\" inch, 6GB RAM, 128GB ROM , 12MP+16MP Dual Camera, 4G LTE, 3100 mAh', 'Samsung Galaxy Note 10 5G Smartphone- 6.3\" inch, 12GB RAM + 256GB ROM, 12MP+12MP+16MP, Triple Camera, 5G ,3500 mAh', 'Samsung Galaxy A80 Smartphone - 8GB RAM + 128GB ROM, 6.7\", 4G, Android 9.0 pie, Trip camera, 3700mAh', 'Samsung Galaxy Note 10 Plus (N975) Smartphone- 6.8\" inch, 12GB RAM - 256GB ROM, 12MP+12MP+16MP+TOF, Quad Camera, 4G, 4300 mAh', 'Samsung Galaxy A60 (A606F) Smartphone- 6.3\", 6GB RAM + 64GB ROM, 32MP+8MP+5MP Trip Camera, 4G, 3500 mAh', 'Samsung Galaxy A70 128GB 6GB Smartphone- 6.7\", 6GB ROM + 128GB RAM, 32MP+8MP+5MP Trip cam, 4G, 4500 mAh', 'Xiaomi Mi 9 Lite 6GB/64GB Smartphone- 6GB RAM + 64GB ROM,  6.39 \", Triple Cam, Android 9.0 Pie, 4000mAh', 'Xiaomi Mi 9T Pro 6GB/64GB Smartphone- 6GB RAM + 64GB ROM, 6.01\", Triple Cam, Android 9.0 Pie, 4000mAh', 'Xiaomi Mi 9T Pro 6GB/128GB Smartphone- 6GB RAM + 128GB ROM, 6.01\", Triple Cam, Android 9.0 Pie, 4000mAh', 'Xiaomi Redmi Note 8 4GB/64GB Smartphone- 4GB RAM + 64GB ROM, 6.01\", Triple Cam, Android 9.0 Pie, 4000mAh', 'Smartphone- Xiaomi Mi A3 4GB/64GB  Smartphone- 4GB RAM + 64GB ROM, 6.01\", Triple Cam, Android 9.0 Pie, 4030mAh', 'Xiaomi Mi A3 4GB/128GB Smartphone- 4GB RAM + 128GB ROM, 6.01\", 48 GB Triple Cam, Android 9.0 Pie, 4030mAh', 'Huawei Honor 9 64GB smartphone-5.15\", 4GB RAM + 32GB ROM, 8MP/ 20MP, Android 7.0, 3200 mAh', 'Huawei Honor 8 Smartphone -5.2” , 4GB RAM + 32GB ROM, 8MP/ 12 MP, ANDROID 6.0, 3000 mAh', 'Blackberry DTEK60 Smartphone - 5.5\" inch , 4GB RAM + 32GB ROM, 21MP Camera, 4G LTE, 3000 mAh Battery', 'Samsung Galaxy A50 Smartphone-  6.4\", 128GB + 4GB (Dual SIM), Android 9.0 (Pie), 4G LTE, 4000 MAh', 'Huawei P30 Lite Smartphone - 128GB ROM + 6GB RAM, 6.15\", Android 9.0 (Pie), 3340 mAh', 'Tecno Camon 12 Smartphone- 4GB RAM + 64GB ROM, 6.5\", Android 9.0 Pie, 4G LTE, 4000mAh', 'Tecno Camon 12 Air Smartphone-3GB RAM + 32GB RAM, 6.5\", Android 9 Pie, 4G LTE, 4000 mAh', 'Tecno Camon 12 Pro Smartphone- 64GB + 6GB, 6.4\", Android 9.0 (Pie), 4G LTE(Dual SIM), 3500 mAh', 'Samsung Galaxy A30s Smartphone-64GB ROM + 4GB RAM, Exynos 7904, Android 9.0 (Pie), 4000 mAh (fast charging)', 'SAMSUNG GALAXY A20s Smartphone- 32GB + 3GB, 4G, Qualcomm Snapdragon 450, 6.4\", 4000 mAh', 'Huawei CP84 Type C 40W Charger, Fast charging', 'Huawei MediaPad T3 10 Tablet: 9.6\" inch', 'Huawei MediaPad T3 8 Tablet: 8.0\" Inch - 2GB RAM - 16GB ROM - 5MP Camera - 4G LTE - 4800mAh']\n",
      "\n",
      " Printing the final prices list!!\n",
      "\n",
      " ['Sale priceKSh189,999.00', 'Sale priceKSh12,999.00', 'Sale priceKSh20,499.00', 'Sale priceKSh11,499.00', 'Sale priceKSh14,499.00', 'Sale priceKSh8,999.00', 'Sale priceKSh32,999.00', 'Sale priceKSh24,499.00', 'Sale priceKSh19,500.00', 'Sale priceKSh69,499.00', 'Sale priceKSh36,989.00', 'Sale priceKSh15,998.00', 'Sale priceKSh30,598.00', 'Sale priceKSh16,199.00', 'Sale priceKSh18,999.00', 'Sale priceKSh35,999.00', 'Sale priceKSh39,500.00', 'Sale priceKSh45,999.00', 'Sale priceKSh82,999.00', 'Sale priceKSh32,499.00', 'Sale priceKSh21,499.00', 'Sale priceKSh9,499.00', 'Sale priceKSh23,500.00', 'Sale priceKSh12,999.00', 'Sale priceKSh5,899.00', 'Sale priceKSh11,450.00', 'Sale priceKSh27,999.00', 'Sale priceKSh13,999.00', 'Sale priceKSh46,000.00', 'Sale priceKSh16,499.00', 'Sale priceKSh13,500.00', 'Sale priceKSh29,398.00', 'Sale priceKSh65,498.00', 'Sale priceKSh6,499.00', 'Sale priceKSh6,999.00', 'Sale priceKSh7,599.00', 'Sale priceKSh11,999.00', 'Sale priceKSh204,999.00', 'Sale priceKSh73,998.00', 'Sale priceKSh34,999.00', 'Sale priceKSh41,000.00', 'Sale priceKSh26,999.00', 'Sale priceKSh19,500.00', 'Sale priceKSh221,998.00', 'Sale priceKSh249,999.00', 'Sale priceKSh35,999.00', 'Sale priceKSh22,999.00', 'Sale priceKSh20,888.00', 'Sale priceKSh39,999.00', 'Sale priceKSh9,799.00', 'Sale priceKSh13,998.00', 'Sale priceKSh21,999.00', 'Sale priceKSh199.00', 'Sale priceKSh498.00', 'Sale priceKSh8,999.00', 'Sale priceKSh7,499.00', 'Sale priceKSh5,199.00', 'Sale priceKSh5,199.00', 'Sale priceKSh7,499.00', 'Sale priceKSh14,499.00', 'Sale priceKSh31,498.00', 'Sale priceKSh38,999.00', 'Sale priceKSh18,998.00', 'Sale priceKSh14,998.00', 'Sale priceKSh9,999.00', 'Sale priceKSh15,500.00', 'Sale priceKSh12,498.00', 'Sale priceKSh14,399.00', 'Sale priceKSh16,498.00', 'Sale priceKSh18,998.00', 'Sale priceKSh16,498.00', 'Sale priceKSh18,998.00', 'Sale priceKSh20,795.00', 'Sale priceKSh21,898.00', 'Sale priceKSh11,699.00', 'Sale priceKSh499.00', 'Sale priceKSh20,398.00', 'Sale priceKSh10,799.00', 'Sale priceKSh34,994.00', 'Sale priceKSh10,298.00', 'Sale priceKSh9,698.00', 'Sale priceKSh52,999.00', 'Sale priceKSh39,794.00', 'Sale priceKSh44,999.00', 'Sale priceKSh26,299.00', 'Sale priceKSh15,899.00', 'Sale priceKSh31,999.00', 'Sale priceKSh28,888.00', 'Sale priceKSh18,998.00', 'Sale priceKSh14,999.00', 'Sale priceKSh18,998.00', 'Sale priceKSh15,998.00', 'Sale priceKSh14,800.00', 'Sale priceKSh12,500.00', 'Sale priceKSh12,500.00', 'Sale priceKSh35,998.00', 'Sale priceKSh25,999.00', 'Sale priceKSh24,999.00', 'Sale priceKSh16,799.00', 'Sale priceKSh12,995.00', 'Sale priceKSh14,395.00', 'Sale priceKSh26,998.00', 'Sale priceKSh9,994.00', 'Sale priceKSh7,799.00', 'Sale priceKSh14,999.00', 'Sale priceKSh6,299.00', 'Sale priceKSh26,499.00', 'Sale priceKSh7,500.00', 'Sale priceKSh5,799.00', 'Sale priceKSh27,499.00', 'Sale priceKSh20,999.00', 'Sale priceKSh46,999.00', 'Sale priceKSh9,999.00', 'Sale priceKSh998.00', 'Sale priceKSh998.00', 'Sale priceKSh4,989.00', 'Sale priceKSh7,199.00', 'Sale priceKSh6,489.00', 'Sale priceKSh45,989.00', 'Sale priceKSh34,989.00', 'Sale priceKSh28,999.00', 'Sale priceKSh8,589.00', 'Sale priceKSh35,989.00', 'Sale priceKSh50,989.00', 'Sale priceKSh37,949.00', 'Sale priceKSh29,499.00', 'Sale priceKSh31,989.00', 'Sale priceKSh36,999.00', 'Sale priceKSh35,499.00', 'Sale priceKSh28,999.00', 'Sale priceKSh19,749.00', 'Sale priceKSh23,499.00', 'Sale priceKSh26,999.00', 'Sale priceKSh39,999.00', 'Sale priceKSh38,999.00', 'Sale priceKSh18,999.00', 'Sale priceKSh14,999.00', 'Sale priceKSh17,999.00', 'Sale priceKSh11,699.00', 'Sale priceKSh54,989.00', 'Sale priceKSh29,989.00', 'Sale priceKSh9,989.00', 'Sale priceKSh33,999.00', 'Sale priceKSh28,499.00', 'Sale priceKSh19,999.00', 'Sale priceKSh18,499.00', 'Sale priceKSh14,499.00', 'Sale priceKSh11,499.00', 'Sale priceKSh10,499.00', 'Sale priceKSh29,499.00', 'Sale priceKSh21,499.00', 'Sale priceKSh22,999.00', 'Sale priceKSh16,499.00', 'Sale priceKSh16,499.00', 'Sale priceKSh24,999.00', 'Sale priceKSh39,999.00', 'Sale priceKSh19,499.00', 'Sale priceKSh24,999.00', 'Sale priceKSh27,999.00', 'Sale priceKSh28,999.00', 'Sale priceKSh18,449.00', 'Sale priceKSh14,999.00', 'Sale priceKSh11,099.00', 'Sale priceKSh42,499.00', 'Sale priceKSh52,999.00', 'Sale priceKSh77,499.00', 'Sale priceKSh56,499.00', 'Sale priceKSh51,999.00', 'Sale priceKSh50,499.00', 'Sale priceKSh59,999.00', 'Sale priceKSh54,999.00', 'Sale priceKSh29,999.00', 'Sale priceKSh13,499.00', 'Sale priceKSh10,499.00', 'Sale priceKSh47,499.00', 'Sale priceKSh15,999.00', 'Sale priceKSh19,599.00', 'Sale priceKSh33,499.00', 'Sale priceKSh29,999.00', 'Sale priceKSh27,499.00', 'Sale priceKSh32,000.00', 'Sale priceKSh43,949.00', 'Sale priceKSh27,499.00', 'Sale priceKSh19,999.00', 'Sale priceKSh18,499.00', 'Sale priceKSh14,500.00', 'Sale priceKSh15,499.00', 'Sale priceKSh27,499.00', 'Sale priceKSh57,000.00', 'Sale priceKSh102,500.00', 'Sale priceKSh154,999.00', 'Sale priceKSh187,500.00', 'Sale priceKSh109,999.00', 'Sale priceKSh132,999.00', 'Sale priceKSh27,499.00', 'Sale priceKSh121,999.00', 'Sale priceKSh145,900.00', 'Sale priceKSh10,999.00', 'Sale priceKSh10,499.00', 'Sale priceKSh125,990.00', 'Sale priceKSh10,599.00', 'Sale priceKSh14,399.00', 'Sale priceKSh21,900.00', 'Sale priceKSh24,199.00', 'Sale priceKSh70,499.00', 'Sale priceKSh24,499.00', 'Sale priceKSh18,499.00', 'Sale priceKSh18,199.00', 'Sale priceKSh16,499.00', 'Sale priceKSh9,799.00', 'Sale priceKSh7,999.00', 'Sale priceKSh11,999.00', 'Sale priceKSh20,500.00', 'Sale priceKSh23,499.00', 'Sale priceKSh161,999.00', 'Sale priceKSh23,000.00', 'Sale priceKSh55,999.00', 'Sale priceKSh8,999.00', 'Sale priceKSh11,000.00', 'Sale priceKSh11,599.00', 'Sale priceKSh16,599.00', 'Sale priceKSh11,599.00', 'Sale priceKSh9,999.00', 'Sale priceKSh11,599.00', 'Sale priceKSh17,999.00', 'Sale priceKSh9,999.00', 'Sale priceKSh8,699.00', 'Sale priceKSh7,400.00', 'Sale priceKSh5,399.00', 'Sale priceKSh12,999.00', 'Sale priceKSh23,000.00', 'Sale priceKSh8,499.00', 'Sale priceKSh26,999.00', 'Sale priceKSh14,499.00', 'Sale priceKSh1,699.00', 'Sale priceKSh2,999.00', 'Sale priceKSh7,999.00', 'Sale priceKSh9,299.00', 'Sale priceKSh9,750.00', 'Sale priceKSh11,299.00', 'Sale priceKSh12,750.00', 'Sale priceKSh11,450.00', 'Sale priceKSh15,499.00', 'Sale priceKSh30,999.00', 'Sale priceKSh27,999.00', 'Sale priceKSh67,500.00', 'Sale priceKSh85,000.00', 'Sale priceKSh110,000.00', 'Sale priceKSh54,000.00', 'Sale priceKSh19,999.00', 'Sale priceKSh19,999.00', 'Sale priceKSh38,499.00', 'Sale priceKSh16,500.00', 'Sale priceKSh32,499.00', 'Sale priceKSh15,999.00', 'Sale priceKSh113,999.00', 'Sale priceKSh90,499.00', 'Sale priceKSh83,999.00', 'Sale priceKSh29,499.00', 'Sale priceKSh28,999.00', 'Sale priceKSh24,499.00', 'Sale priceKSh14,999.00', 'Sale priceKSh8,600.00', 'Sale priceKSh10,999.00', 'Sale priceKSh23,499.00', 'Sale priceKSh19,000.00', 'Sale priceKSh27,499.00', 'Sale priceKSh51,999.00', 'Sale priceKSh61,499.00', 'Sale priceKSh85,499.00', 'Sale priceKSh31,499.00', 'Sale priceKSh59,499.00', 'Sale priceKSh84,000.00', 'Sale priceKSh50,499.00', 'Sale priceKSh98,499.00', 'Sale priceKSh31,499.00', 'Sale priceKSh36,499.00', 'Sale priceKSh29,999.00', 'Sale priceKSh40,000.00', 'Sale priceKSh42,000.00', 'Sale priceKSh21,000.00', 'Sale priceKSh18,999.00', 'Sale priceKSh21,999.00', 'Sale priceKSh28,999.00', 'Sale priceKSh24,999.00', 'Sale priceKSh24,499.00', 'Sale priceKSh26,999.00', 'Sale priceKSh25,999.00', 'Sale priceKSh14,599.00', 'Sale priceKSh12,799.00', 'Sale priceKSh18,599.00', 'Sale priceKSh23,999.00', 'Sale priceKSh17,499.00', 'Sale priceKSh2,599.00', 'Sale priceKSh22,499.00', 'Sale priceKSh16,499.00']\n",
      "\n",
      " Printing the final dictionary!!\n"
     ]
    },
    {
     "data": {
      "text/html": [
       "<div>\n",
       "<style scoped>\n",
       "    .dataframe tbody tr th:only-of-type {\n",
       "        vertical-align: middle;\n",
       "    }\n",
       "\n",
       "    .dataframe tbody tr th {\n",
       "        vertical-align: top;\n",
       "    }\n",
       "\n",
       "    .dataframe thead th {\n",
       "        text-align: right;\n",
       "    }\n",
       "</style>\n",
       "<table border=\"1\" class=\"dataframe\">\n",
       "  <thead>\n",
       "    <tr style=\"text-align: right;\">\n",
       "      <th></th>\n",
       "      <th>vendor</th>\n",
       "      <th>product name and description</th>\n",
       "      <th>price</th>\n",
       "    </tr>\n",
       "  </thead>\n",
       "  <tbody>\n",
       "    <tr>\n",
       "      <th>0</th>\n",
       "      <td>Apple</td>\n",
       "      <td>Apple iPhone 14 Pro Max Smartphone - 6GB RAM, ...</td>\n",
       "      <td>Sale priceKSh189,999.00</td>\n",
       "    </tr>\n",
       "    <tr>\n",
       "      <th>1</th>\n",
       "      <td>BNSL</td>\n",
       "      <td>BSNL Penta P40 Pro Tablet - Dual SIM, 4GB RAM ...</td>\n",
       "      <td>Sale priceKSh12,999.00</td>\n",
       "    </tr>\n",
       "    <tr>\n",
       "      <th>2</th>\n",
       "      <td>Xiaomi</td>\n",
       "      <td>Xiaomi Redmi Note 11 Smart Phone 4GB 128GB 6.4...</td>\n",
       "      <td>Sale priceKSh20,499.00</td>\n",
       "    </tr>\n",
       "    <tr>\n",
       "      <th>3</th>\n",
       "      <td>Tecno</td>\n",
       "      <td>Tecno spark 3 pro KB8 Smartphone- 2GB RAM + 32...</td>\n",
       "      <td>Sale priceKSh11,499.00</td>\n",
       "    </tr>\n",
       "    <tr>\n",
       "      <th>4</th>\n",
       "      <td>Tecno</td>\n",
       "      <td>Tecno Spark 7 Pro Smartphone 4GB RAM, 128 GB S...</td>\n",
       "      <td>Sale priceKSh14,499.00</td>\n",
       "    </tr>\n",
       "    <tr>\n",
       "      <th>...</th>\n",
       "      <td>...</td>\n",
       "      <td>...</td>\n",
       "      <td>...</td>\n",
       "    </tr>\n",
       "    <tr>\n",
       "      <th>291</th>\n",
       "      <td>Samsung</td>\n",
       "      <td>Samsung Galaxy A30s Smartphone-64GB ROM + 4GB ...</td>\n",
       "      <td>Sale priceKSh23,999.00</td>\n",
       "    </tr>\n",
       "    <tr>\n",
       "      <th>292</th>\n",
       "      <td>Samsung</td>\n",
       "      <td>SAMSUNG GALAXY A20s Smartphone- 32GB + 3GB, 4G...</td>\n",
       "      <td>Sale priceKSh17,499.00</td>\n",
       "    </tr>\n",
       "    <tr>\n",
       "      <th>293</th>\n",
       "      <td>Huawei</td>\n",
       "      <td>Huawei CP84 Type C 40W Charger, Fast charging</td>\n",
       "      <td>Sale priceKSh2,599.00</td>\n",
       "    </tr>\n",
       "    <tr>\n",
       "      <th>294</th>\n",
       "      <td>Huawei</td>\n",
       "      <td>Huawei MediaPad T3 10 Tablet: 9.6\" inch</td>\n",
       "      <td>Sale priceKSh22,499.00</td>\n",
       "    </tr>\n",
       "    <tr>\n",
       "      <th>295</th>\n",
       "      <td>Huawei</td>\n",
       "      <td>Huawei MediaPad T3 8 Tablet: 8.0\" Inch - 2GB R...</td>\n",
       "      <td>Sale priceKSh16,499.00</td>\n",
       "    </tr>\n",
       "  </tbody>\n",
       "</table>\n",
       "<p>296 rows × 3 columns</p>\n",
       "</div>"
      ],
      "text/plain": [
       "      vendor                       product name and description  \\\n",
       "0      Apple  Apple iPhone 14 Pro Max Smartphone - 6GB RAM, ...   \n",
       "1       BNSL  BSNL Penta P40 Pro Tablet - Dual SIM, 4GB RAM ...   \n",
       "2     Xiaomi  Xiaomi Redmi Note 11 Smart Phone 4GB 128GB 6.4...   \n",
       "3      Tecno  Tecno spark 3 pro KB8 Smartphone- 2GB RAM + 32...   \n",
       "4      Tecno  Tecno Spark 7 Pro Smartphone 4GB RAM, 128 GB S...   \n",
       "..       ...                                                ...   \n",
       "291  Samsung  Samsung Galaxy A30s Smartphone-64GB ROM + 4GB ...   \n",
       "292  Samsung  SAMSUNG GALAXY A20s Smartphone- 32GB + 3GB, 4G...   \n",
       "293   Huawei      Huawei CP84 Type C 40W Charger, Fast charging   \n",
       "294   Huawei            Huawei MediaPad T3 10 Tablet: 9.6\" inch   \n",
       "295   Huawei  Huawei MediaPad T3 8 Tablet: 8.0\" Inch - 2GB R...   \n",
       "\n",
       "                       price  \n",
       "0    Sale priceKSh189,999.00  \n",
       "1     Sale priceKSh12,999.00  \n",
       "2     Sale priceKSh20,499.00  \n",
       "3     Sale priceKSh11,499.00  \n",
       "4     Sale priceKSh14,499.00  \n",
       "..                       ...  \n",
       "291   Sale priceKSh23,999.00  \n",
       "292   Sale priceKSh17,499.00  \n",
       "293    Sale priceKSh2,599.00  \n",
       "294   Sale priceKSh22,499.00  \n",
       "295   Sale priceKSh16,499.00  \n",
       "\n",
       "[296 rows x 3 columns]"
      ]
     },
     "execution_count": 21,
     "metadata": {},
     "output_type": "execute_result"
    }
   ],
   "source": [
    "# This is a call function that takes in category links and number of pages as inputs and returns the final dataframe as well as a csv table. \n",
    "smartphone_csv(category_links[0], 13)"
   ]
  },
  {
   "cell_type": "markdown",
   "id": "f0c2de69-bd3f-4be0-b29d-130b5283dbb2",
   "metadata": {},
   "source": [
    "The above call function can recieve any category link from the 'category_links' dataframe using indexing([ int ]).\n",
    "When a category only has one page, you should use 'None' as the number of pages, for example; \n",
    "\n",
    "smartphone_csv(category_links[ int ], 'None')"
   ]
  },
  {
   "cell_type": "markdown",
   "id": "7b2e1a30-42ad-4bc2-9aac-fd83cf7360a6",
   "metadata": {},
   "source": [
    "#### Accessing the smartphones_table"
   ]
  },
  {
   "cell_type": "code",
   "execution_count": 22,
   "id": "2b9487e0-d6d2-4357-ac57-fe7b7fdb70e7",
   "metadata": {},
   "outputs": [
    {
     "data": {
      "text/html": [
       "<div>\n",
       "<style scoped>\n",
       "    .dataframe tbody tr th:only-of-type {\n",
       "        vertical-align: middle;\n",
       "    }\n",
       "\n",
       "    .dataframe tbody tr th {\n",
       "        vertical-align: top;\n",
       "    }\n",
       "\n",
       "    .dataframe thead th {\n",
       "        text-align: right;\n",
       "    }\n",
       "</style>\n",
       "<table border=\"1\" class=\"dataframe\">\n",
       "  <thead>\n",
       "    <tr style=\"text-align: right;\">\n",
       "      <th></th>\n",
       "      <th>vendor</th>\n",
       "      <th>product name and description</th>\n",
       "      <th>price</th>\n",
       "    </tr>\n",
       "  </thead>\n",
       "  <tbody>\n",
       "    <tr>\n",
       "      <th>0</th>\n",
       "      <td>Apple</td>\n",
       "      <td>Apple iPhone 14 Pro Max Smartphone - 6GB RAM, ...</td>\n",
       "      <td>Sale priceKSh189,999.00</td>\n",
       "    </tr>\n",
       "    <tr>\n",
       "      <th>1</th>\n",
       "      <td>BNSL</td>\n",
       "      <td>BSNL Penta P40 Pro Tablet - Dual SIM, 4GB RAM ...</td>\n",
       "      <td>Sale priceKSh12,999.00</td>\n",
       "    </tr>\n",
       "    <tr>\n",
       "      <th>2</th>\n",
       "      <td>Xiaomi</td>\n",
       "      <td>Xiaomi Redmi Note 11 Smart Phone 4GB 128GB 6.4...</td>\n",
       "      <td>Sale priceKSh20,499.00</td>\n",
       "    </tr>\n",
       "    <tr>\n",
       "      <th>3</th>\n",
       "      <td>Tecno</td>\n",
       "      <td>Tecno spark 3 pro KB8 Smartphone- 2GB RAM + 32...</td>\n",
       "      <td>Sale priceKSh11,499.00</td>\n",
       "    </tr>\n",
       "    <tr>\n",
       "      <th>4</th>\n",
       "      <td>Tecno</td>\n",
       "      <td>Tecno Spark 7 Pro Smartphone 4GB RAM, 128 GB S...</td>\n",
       "      <td>Sale priceKSh14,499.00</td>\n",
       "    </tr>\n",
       "    <tr>\n",
       "      <th>...</th>\n",
       "      <td>...</td>\n",
       "      <td>...</td>\n",
       "      <td>...</td>\n",
       "    </tr>\n",
       "    <tr>\n",
       "      <th>291</th>\n",
       "      <td>Samsung</td>\n",
       "      <td>Samsung Galaxy A30s Smartphone-64GB ROM + 4GB ...</td>\n",
       "      <td>Sale priceKSh23,999.00</td>\n",
       "    </tr>\n",
       "    <tr>\n",
       "      <th>292</th>\n",
       "      <td>Samsung</td>\n",
       "      <td>SAMSUNG GALAXY A20s Smartphone- 32GB + 3GB, 4G...</td>\n",
       "      <td>Sale priceKSh17,499.00</td>\n",
       "    </tr>\n",
       "    <tr>\n",
       "      <th>293</th>\n",
       "      <td>Huawei</td>\n",
       "      <td>Huawei CP84 Type C 40W Charger, Fast charging</td>\n",
       "      <td>Sale priceKSh2,599.00</td>\n",
       "    </tr>\n",
       "    <tr>\n",
       "      <th>294</th>\n",
       "      <td>Huawei</td>\n",
       "      <td>Huawei MediaPad T3 10 Tablet: 9.6\" inch</td>\n",
       "      <td>Sale priceKSh22,499.00</td>\n",
       "    </tr>\n",
       "    <tr>\n",
       "      <th>295</th>\n",
       "      <td>Huawei</td>\n",
       "      <td>Huawei MediaPad T3 8 Tablet: 8.0\" Inch - 2GB R...</td>\n",
       "      <td>Sale priceKSh16,499.00</td>\n",
       "    </tr>\n",
       "  </tbody>\n",
       "</table>\n",
       "<p>296 rows × 3 columns</p>\n",
       "</div>"
      ],
      "text/plain": [
       "      vendor                       product name and description  \\\n",
       "0      Apple  Apple iPhone 14 Pro Max Smartphone - 6GB RAM, ...   \n",
       "1       BNSL  BSNL Penta P40 Pro Tablet - Dual SIM, 4GB RAM ...   \n",
       "2     Xiaomi  Xiaomi Redmi Note 11 Smart Phone 4GB 128GB 6.4...   \n",
       "3      Tecno  Tecno spark 3 pro KB8 Smartphone- 2GB RAM + 32...   \n",
       "4      Tecno  Tecno Spark 7 Pro Smartphone 4GB RAM, 128 GB S...   \n",
       "..       ...                                                ...   \n",
       "291  Samsung  Samsung Galaxy A30s Smartphone-64GB ROM + 4GB ...   \n",
       "292  Samsung  SAMSUNG GALAXY A20s Smartphone- 32GB + 3GB, 4G...   \n",
       "293   Huawei      Huawei CP84 Type C 40W Charger, Fast charging   \n",
       "294   Huawei            Huawei MediaPad T3 10 Tablet: 9.6\" inch   \n",
       "295   Huawei  Huawei MediaPad T3 8 Tablet: 8.0\" Inch - 2GB R...   \n",
       "\n",
       "                       price  \n",
       "0    Sale priceKSh189,999.00  \n",
       "1     Sale priceKSh12,999.00  \n",
       "2     Sale priceKSh20,499.00  \n",
       "3     Sale priceKSh11,499.00  \n",
       "4     Sale priceKSh14,499.00  \n",
       "..                       ...  \n",
       "291   Sale priceKSh23,999.00  \n",
       "292   Sale priceKSh17,499.00  \n",
       "293    Sale priceKSh2,599.00  \n",
       "294   Sale priceKSh22,499.00  \n",
       "295   Sale priceKSh16,499.00  \n",
       "\n",
       "[296 rows x 3 columns]"
      ]
     },
     "execution_count": 22,
     "metadata": {},
     "output_type": "execute_result"
    }
   ],
   "source": [
    "smartphones_df = pd.read_csv('smartphones_table')\n",
    "smartphones_df"
   ]
  }
 ],
 "metadata": {
  "kernelspec": {
   "display_name": "base",
   "language": "python",
   "name": "python3"
  },
  "language_info": {
   "codemirror_mode": {
    "name": "ipython",
    "version": 3
   },
   "file_extension": ".py",
   "mimetype": "text/x-python",
   "name": "python",
   "nbconvert_exporter": "python",
   "pygments_lexer": "ipython3",
   "version": "3.12.7"
  }
 },
 "nbformat": 4,
 "nbformat_minor": 5
}
